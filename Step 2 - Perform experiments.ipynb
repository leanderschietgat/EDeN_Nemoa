{
 "cells": [
  {
   "cell_type": "code",
   "execution_count": 27,
   "metadata": {
    "collapsed": false
   },
   "outputs": [
    {
     "name": "stdout",
     "output_type": "stream",
     "text": [
      "CPU times: user 25 µs, sys: 59 µs, total: 84 µs\n",
      "Wall time: 99.9 µs\n"
     ]
    }
   ],
   "source": [
    "%%time\n",
    "\n",
    "import networkx as nx\n",
    "from eden.util import read\n",
    "\n",
    "# Load in graphs from file\n",
    "def load_graphs(file):\n",
    "    graphs = []\n",
    "    for line in read(file):\n",
    "        if not(line.startswith('#')): # skip info lines\n",
    "            parts = line.split()\n",
    "            pdb_id = parts[0]\n",
    "            target = parts[3]\n",
    "            ligand_marker = parts[7].strip('()')\n",
    "            if '-' not in ligand_marker: # TODO: figure out what to do with peptides and if there are multiple ligands\n",
    "                if '&' not in ligand_marker:\n",
    "                    file_name = 'gml/' + pdb_id + '.gml'\n",
    "                    g = nx.read_gml(file_name)\n",
    "                    graphs.append(g)\n",
    "    return graphs"
   ]
  },
  {
   "cell_type": "code",
   "execution_count": 28,
   "metadata": {
    "collapsed": true
   },
   "outputs": [],
   "source": [
    "from sklearn.base import BaseEstimator, TransformerMixin\n",
    "from collections import defaultdict, deque\n",
    "class MarkActive(BaseEstimator, TransformerMixin):\n",
    "\n",
    "    \"\"\"\n",
    "    Missing.\n",
    "    \"\"\"\n",
    "\n",
    "    def __init__(self, max_depth=10, attribute='active', root_attribute=None, root_value=None):\n",
    "        self.max_depth = max_depth\n",
    "        self.attribute = attribute\n",
    "        self.root_attribute = root_attribute\n",
    "        self.root_value = root_value\n",
    "        self.key_nesting='nesting'\n",
    "\n",
    "    def fit(self):\n",
    "        return self\n",
    "\n",
    "    def transform(self, graphs):\n",
    "        \"\"\"\n",
    "        Todo.\n",
    "        \"\"\"\n",
    "        try:\n",
    "            for graph in graphs:\n",
    "                marked_graph = self.mark_active(graph)\n",
    "                yield marked_graph\n",
    "        except Exception as e:\n",
    "            logger.debug('Failed iteration. Reason: %s' % e)\n",
    "            logger.debug('Exception', exc_info=True)\n",
    "\n",
    "    def mark_active(self, graph):\n",
    "        # mark all nodes as False\n",
    "        for u in graph.nodes():\n",
    "            graph.node[u][self.attribute]=False\n",
    "        # mark as True all nodes that are within distance 'max_depth' from a node that has root_attribute=root_value\n",
    "        for u in graph.nodes(): \n",
    "            node_dict = graph.node[u]\n",
    "            if self.root_attribute in node_dict and node_dict[self.root_attribute] == self.root_value:\n",
    "                self.mark_single_vertex_breadth_first_visit(graph, root=u)\n",
    "        return graph\n",
    "            \n",
    "    def mark_single_vertex_breadth_first_visit(self, graph, root=None):\n",
    "        graph.node[root][self.attribute]=True\n",
    "        visited = set()  # use a set as we can end up exploring few nodes\n",
    "        # q is the queue containing the frontieer to be expanded in the BFV\n",
    "        q = deque()\n",
    "        q.append(root)\n",
    "        # the map associates to each vertex id the distance from the root\n",
    "        dist = {}\n",
    "        dist[root] = 0\n",
    "        visited.add(root)\n",
    "        while len(q) > 0:\n",
    "            # extract the current vertex\n",
    "            u = q.popleft()\n",
    "            d = dist[u] + 1\n",
    "            if d <= self.max_depth:\n",
    "                # iterate over the neighbors of the current vertex\n",
    "                for v in graph.neighbors(u):\n",
    "                    if v not in visited:\n",
    "                        # skip nesting edge-nodes\n",
    "                        if graph.edge[u][v].get(self.key_nesting, False) is False:\n",
    "                            dist[v] = d\n",
    "                            visited.add(v)\n",
    "                            graph.node[v][self.attribute]=True\n",
    "                            q.append(v)"
   ]
  },
  {
   "cell_type": "code",
   "execution_count": 29,
   "metadata": {
    "collapsed": true
   },
   "outputs": [],
   "source": [
    "import numpy as np\n",
    "\n",
    "def make_target(graphs):\n",
    "    y = [float(graph.graph['target']) for graph in graphs ]\n",
    "    y = np.array(y)\n",
    "    return y"
   ]
  },
  {
   "cell_type": "code",
   "execution_count": 30,
   "metadata": {
    "collapsed": false
   },
   "outputs": [
    {
     "name": "stdout",
     "output_type": "stream",
     "text": [
      "CPU times: user 8min 4s, sys: 39.3 s, total: 8min 43s\n",
      "Wall time: 8min 23s\n"
     ]
    }
   ],
   "source": [
    "%%time\n",
    "\n",
    "graphs = load_graphs('INDEX_refined_data.2015_temp')"
   ]
  },
  {
   "cell_type": "code",
   "execution_count": 31,
   "metadata": {
    "collapsed": false
   },
   "outputs": [
    {
     "name": "stdout",
     "output_type": "stream",
     "text": [
      "CPU times: user 1.66 s, sys: 359 ms, total: 2.02 s\n",
      "Wall time: 1min 21s\n"
     ]
    }
   ],
   "source": [
    "%%time\n",
    "\n",
    "from GArDen.interfaces import convert, transform\n",
    "\n",
    "from eden.graph import Vectorizer\n",
    "from eden.util import vectorize\n",
    "\n",
    "#graphs = load_graphs('INDEX_refined_data.2015_temp')\n",
    "\n",
    "#parameters_priors = dict(max_depth=max_depth, attribute='active')\n",
    "#graphs = transform(graphs, program=MarkActive(), parameters_priors=parameters_priors)\n",
    "\n",
    "#graphs = list(graphs)\n",
    "\n",
    "# first delete nodes with weird label?\n",
    "\n",
    "complexity = 5\n",
    "X = Vectorizer(complexity).transform(graphs)"
   ]
  },
  {
   "cell_type": "code",
   "execution_count": 36,
   "metadata": {
    "collapsed": false
   },
   "outputs": [],
   "source": [
    "from GArDen.interfaces import convert, transform\n",
    "#from GArDen.transform.node import AddNodeAttributeValue\n",
    "#from GArDen.transform import DeleteNode\n",
    "#from GArDen.transform.trim_to_largest_component import TrimToLargestComponent\n",
    "from eden.graph import Vectorizer\n",
    "from eden.util import vectorize\n",
    "from sklearn.svm import SVR\n",
    "from sklearn.cross_validation import cross_val_predict\n",
    "from sklearn.cross_validation import StratifiedKFold\n",
    "from sklearn.cross_validation import KFold\n",
    "import time\n",
    "\n",
    "def run_experiment(data_fname='interaction_data', \n",
    "                   #target_fname = 'PDBbind_refined07-core07.txt', \n",
    "                   graphs=graphs, \n",
    "                   max_depth=1, \n",
    "                   complexity=5,\n",
    "                   C=100,\n",
    "                   gamma=0.1,\n",
    "                   n_iter=5):    \n",
    "    #graphs = convert(data_fname, program=ConvertProteinLigand())\n",
    "    #parameters_priors = dict(attribute='active', value=False)\n",
    "    #graphs = transform(graphs, program=AddNodeAttributeValue(), parameters_priors=parameters_priors)\n",
    "    parameters_priors = dict(max_depth=max_depth, attribute='active')\n",
    "    graphs = transform(graphs, program=MarkActive(), parameters_priors=parameters_priors)\n",
    "    parameters_priors = dict(attribute_value_dict=[dict(active=False, type='protein')])\n",
    "    #graphs = transform(graphs, program=DeleteNode(), parameters_priors=parameters_priors)\n",
    "    #graphs = transform(graphs, program=TrimToLargestComponent())\n",
    "    graphs = list(graphs)\n",
    "    #X = vectorize(graphs, vectorizer=Vectorizer(complexity=complexity), fit_flag=False, n_jobs=-1)\n",
    "    #X = Vectorizer(complexity).transform(graphs)\n",
    "    y = make_target(graphs)\n",
    "    \n",
    "    corr_list=[]\n",
    "    for i in range(n_iter):\n",
    "        predictor = SVR(C=C, gamma=gamma)\n",
    "        #predicted = cross_val_predict(predictor, X, y, cv=StratifiedKFold(y, n_folds=5, shuffle=True, random_state=int(time.time())), n_jobs=-1)\n",
    "        predicted = cross_val_predict(predictor, X, y, cv=KFold(n_folds=5,shuffle=True,random_state=None), n_jobs=-1)\n",
    "        corr = np.corrcoef([predicted,y])[0][1]\n",
    "        corr_list.append(corr)\n",
    "    return np.mean(corr_list), np.std(corr_list)"
   ]
  },
  {
   "cell_type": "code",
   "execution_count": 37,
   "metadata": {
    "collapsed": false
   },
   "outputs": [
    {
     "ename": "TypeError",
     "evalue": "__init__() got an unexpected keyword argument 'n_splits'",
     "output_type": "error",
     "traceback": [
      "\u001b[0;31m---------------------------------------------------------------------------\u001b[0m",
      "\u001b[0;31mTypeError\u001b[0m                                 Traceback (most recent call last)",
      "\u001b[0;32m<ipython-input-37-dbe3514c43fc>\u001b[0m in \u001b[0;36m<module>\u001b[0;34m()\u001b[0m\n\u001b[0;32m----> 1\u001b[0;31m \u001b[0mget_ipython\u001b[0m\u001b[0;34m(\u001b[0m\u001b[0;34m)\u001b[0m\u001b[0;34m.\u001b[0m\u001b[0mrun_cell_magic\u001b[0m\u001b[0;34m(\u001b[0m\u001b[0;34mu'time'\u001b[0m\u001b[0;34m,\u001b[0m \u001b[0;34mu''\u001b[0m\u001b[0;34m,\u001b[0m \u001b[0;34mu\"import time\\nimport datetime\\nx1 = []\\nx2 = []\\nx3 = []\\n\\ngraphs = load_graphs('INDEX_refined_data.2015_temp')\\n\\nfor max_depth in range(2):\\n    start = time.time()\\n    corr_mean, corr_std = run_experiment(data_fname='interaction_data', \\n                                         graphs=graphs,\\n                                         max_depth=max_depth,\\n                                         complexity=2,\\n                                         C=62.52,\\n                                         gamma=0.279, \\n                                         n_iter=20)\\n    \\n    delta_time = datetime.timedelta(seconds=(time.time() - start))\\n    print 'Max depth: %d   Corr coeff: %.3f +- %.3f   in: %s' % (max_depth, corr_mean, corr_std, str(delta_time))\\n    x1.append(corr_mean)\\n    x3.append(corr_std)\\n    x2.append(max_depth)\\nx1=np.array(x1)\\nx2=np.array(x2)\\nx3=np.array(x3)\"\u001b[0m\u001b[0;34m)\u001b[0m\u001b[0;34m\u001b[0m\u001b[0m\n\u001b[0m",
      "\u001b[0;32m/Users/leander/anaconda/envs/eden_env/lib/python2.7/site-packages/IPython/core/interactiveshell.pyc\u001b[0m in \u001b[0;36mrun_cell_magic\u001b[0;34m(self, magic_name, line, cell)\u001b[0m\n\u001b[1;32m   2118\u001b[0m             \u001b[0mmagic_arg_s\u001b[0m \u001b[0;34m=\u001b[0m \u001b[0mself\u001b[0m\u001b[0;34m.\u001b[0m\u001b[0mvar_expand\u001b[0m\u001b[0;34m(\u001b[0m\u001b[0mline\u001b[0m\u001b[0;34m,\u001b[0m \u001b[0mstack_depth\u001b[0m\u001b[0;34m)\u001b[0m\u001b[0;34m\u001b[0m\u001b[0m\n\u001b[1;32m   2119\u001b[0m             \u001b[0;32mwith\u001b[0m \u001b[0mself\u001b[0m\u001b[0;34m.\u001b[0m\u001b[0mbuiltin_trap\u001b[0m\u001b[0;34m:\u001b[0m\u001b[0;34m\u001b[0m\u001b[0m\n\u001b[0;32m-> 2120\u001b[0;31m                 \u001b[0mresult\u001b[0m \u001b[0;34m=\u001b[0m \u001b[0mfn\u001b[0m\u001b[0;34m(\u001b[0m\u001b[0mmagic_arg_s\u001b[0m\u001b[0;34m,\u001b[0m \u001b[0mcell\u001b[0m\u001b[0;34m)\u001b[0m\u001b[0;34m\u001b[0m\u001b[0m\n\u001b[0m\u001b[1;32m   2121\u001b[0m             \u001b[0;32mreturn\u001b[0m \u001b[0mresult\u001b[0m\u001b[0;34m\u001b[0m\u001b[0m\n\u001b[1;32m   2122\u001b[0m \u001b[0;34m\u001b[0m\u001b[0m\n",
      "\u001b[0;32m<decorator-gen-60>\u001b[0m in \u001b[0;36mtime\u001b[0;34m(self, line, cell, local_ns)\u001b[0m\n",
      "\u001b[0;32m/Users/leander/anaconda/envs/eden_env/lib/python2.7/site-packages/IPython/core/magic.pyc\u001b[0m in \u001b[0;36m<lambda>\u001b[0;34m(f, *a, **k)\u001b[0m\n\u001b[1;32m    191\u001b[0m     \u001b[0;31m# but it's overkill for just that one bit of state.\u001b[0m\u001b[0;34m\u001b[0m\u001b[0;34m\u001b[0m\u001b[0m\n\u001b[1;32m    192\u001b[0m     \u001b[0;32mdef\u001b[0m \u001b[0mmagic_deco\u001b[0m\u001b[0;34m(\u001b[0m\u001b[0marg\u001b[0m\u001b[0;34m)\u001b[0m\u001b[0;34m:\u001b[0m\u001b[0;34m\u001b[0m\u001b[0m\n\u001b[0;32m--> 193\u001b[0;31m         \u001b[0mcall\u001b[0m \u001b[0;34m=\u001b[0m \u001b[0;32mlambda\u001b[0m \u001b[0mf\u001b[0m\u001b[0;34m,\u001b[0m \u001b[0;34m*\u001b[0m\u001b[0ma\u001b[0m\u001b[0;34m,\u001b[0m \u001b[0;34m**\u001b[0m\u001b[0mk\u001b[0m\u001b[0;34m:\u001b[0m \u001b[0mf\u001b[0m\u001b[0;34m(\u001b[0m\u001b[0;34m*\u001b[0m\u001b[0ma\u001b[0m\u001b[0;34m,\u001b[0m \u001b[0;34m**\u001b[0m\u001b[0mk\u001b[0m\u001b[0;34m)\u001b[0m\u001b[0;34m\u001b[0m\u001b[0m\n\u001b[0m\u001b[1;32m    194\u001b[0m \u001b[0;34m\u001b[0m\u001b[0m\n\u001b[1;32m    195\u001b[0m         \u001b[0;32mif\u001b[0m \u001b[0mcallable\u001b[0m\u001b[0;34m(\u001b[0m\u001b[0marg\u001b[0m\u001b[0;34m)\u001b[0m\u001b[0;34m:\u001b[0m\u001b[0;34m\u001b[0m\u001b[0m\n",
      "\u001b[0;32m/Users/leander/anaconda/envs/eden_env/lib/python2.7/site-packages/IPython/core/magics/execution.pyc\u001b[0m in \u001b[0;36mtime\u001b[0;34m(self, line, cell, local_ns)\u001b[0m\n\u001b[1;32m   1175\u001b[0m         \u001b[0;32melse\u001b[0m\u001b[0;34m:\u001b[0m\u001b[0;34m\u001b[0m\u001b[0m\n\u001b[1;32m   1176\u001b[0m             \u001b[0mst\u001b[0m \u001b[0;34m=\u001b[0m \u001b[0mclock2\u001b[0m\u001b[0;34m(\u001b[0m\u001b[0;34m)\u001b[0m\u001b[0;34m\u001b[0m\u001b[0m\n\u001b[0;32m-> 1177\u001b[0;31m             \u001b[0;32mexec\u001b[0m\u001b[0;34m(\u001b[0m\u001b[0mcode\u001b[0m\u001b[0;34m,\u001b[0m \u001b[0mglob\u001b[0m\u001b[0;34m,\u001b[0m \u001b[0mlocal_ns\u001b[0m\u001b[0;34m)\u001b[0m\u001b[0;34m\u001b[0m\u001b[0m\n\u001b[0m\u001b[1;32m   1178\u001b[0m             \u001b[0mend\u001b[0m \u001b[0;34m=\u001b[0m \u001b[0mclock2\u001b[0m\u001b[0;34m(\u001b[0m\u001b[0;34m)\u001b[0m\u001b[0;34m\u001b[0m\u001b[0m\n\u001b[1;32m   1179\u001b[0m             \u001b[0mout\u001b[0m \u001b[0;34m=\u001b[0m \u001b[0mNone\u001b[0m\u001b[0;34m\u001b[0m\u001b[0m\n",
      "\u001b[0;32m<timed exec>\u001b[0m in \u001b[0;36m<module>\u001b[0;34m()\u001b[0m\n",
      "\u001b[0;32m<ipython-input-36-021d413f2755>\u001b[0m in \u001b[0;36mrun_experiment\u001b[0;34m(data_fname, graphs, max_depth, complexity, C, gamma, n_iter)\u001b[0m\n\u001b[1;32m     36\u001b[0m         \u001b[0mpredictor\u001b[0m \u001b[0;34m=\u001b[0m \u001b[0mSVR\u001b[0m\u001b[0;34m(\u001b[0m\u001b[0mC\u001b[0m\u001b[0;34m=\u001b[0m\u001b[0mC\u001b[0m\u001b[0;34m,\u001b[0m \u001b[0mgamma\u001b[0m\u001b[0;34m=\u001b[0m\u001b[0mgamma\u001b[0m\u001b[0;34m)\u001b[0m\u001b[0;34m\u001b[0m\u001b[0m\n\u001b[1;32m     37\u001b[0m         \u001b[0;31m#predicted = cross_val_predict(predictor, X, y, cv=StratifiedKFold(y, n_folds=5, shuffle=True, random_state=int(time.time())), n_jobs=-1)\u001b[0m\u001b[0;34m\u001b[0m\u001b[0;34m\u001b[0m\u001b[0m\n\u001b[0;32m---> 38\u001b[0;31m         \u001b[0mpredicted\u001b[0m \u001b[0;34m=\u001b[0m \u001b[0mcross_val_predict\u001b[0m\u001b[0;34m(\u001b[0m\u001b[0mpredictor\u001b[0m\u001b[0;34m,\u001b[0m \u001b[0mX\u001b[0m\u001b[0;34m,\u001b[0m \u001b[0my\u001b[0m\u001b[0;34m,\u001b[0m \u001b[0mcv\u001b[0m\u001b[0;34m=\u001b[0m\u001b[0mKFold\u001b[0m\u001b[0;34m(\u001b[0m\u001b[0mn_splits\u001b[0m\u001b[0;34m=\u001b[0m\u001b[0;36m5\u001b[0m\u001b[0;34m,\u001b[0m\u001b[0mshuffle\u001b[0m\u001b[0;34m=\u001b[0m\u001b[0mTrue\u001b[0m\u001b[0;34m,\u001b[0m\u001b[0mrandom_state\u001b[0m\u001b[0;34m=\u001b[0m\u001b[0mNone\u001b[0m\u001b[0;34m)\u001b[0m\u001b[0;34m,\u001b[0m \u001b[0mn_jobs\u001b[0m\u001b[0;34m=\u001b[0m\u001b[0;34m-\u001b[0m\u001b[0;36m1\u001b[0m\u001b[0;34m)\u001b[0m\u001b[0;34m\u001b[0m\u001b[0m\n\u001b[0m\u001b[1;32m     39\u001b[0m         \u001b[0mcorr\u001b[0m \u001b[0;34m=\u001b[0m \u001b[0mnp\u001b[0m\u001b[0;34m.\u001b[0m\u001b[0mcorrcoef\u001b[0m\u001b[0;34m(\u001b[0m\u001b[0;34m[\u001b[0m\u001b[0mpredicted\u001b[0m\u001b[0;34m,\u001b[0m\u001b[0my\u001b[0m\u001b[0;34m]\u001b[0m\u001b[0;34m)\u001b[0m\u001b[0;34m[\u001b[0m\u001b[0;36m0\u001b[0m\u001b[0;34m]\u001b[0m\u001b[0;34m[\u001b[0m\u001b[0;36m1\u001b[0m\u001b[0;34m]\u001b[0m\u001b[0;34m\u001b[0m\u001b[0m\n\u001b[1;32m     40\u001b[0m         \u001b[0mcorr_list\u001b[0m\u001b[0;34m.\u001b[0m\u001b[0mappend\u001b[0m\u001b[0;34m(\u001b[0m\u001b[0mcorr\u001b[0m\u001b[0;34m)\u001b[0m\u001b[0;34m\u001b[0m\u001b[0m\n",
      "\u001b[0;31mTypeError\u001b[0m: __init__() got an unexpected keyword argument 'n_splits'"
     ]
    }
   ],
   "source": [
    "%%time\n",
    "import time\n",
    "import datetime\n",
    "x1 = []\n",
    "x2 = []\n",
    "x3 = []\n",
    "\n",
    "graphs = load_graphs('INDEX_refined_data.2015_temp')\n",
    "\n",
    "for max_depth in range(2):\n",
    "    start = time.time()\n",
    "    corr_mean, corr_std = run_experiment(data_fname='interaction_data', \n",
    "                                         graphs=graphs,\n",
    "                                         max_depth=max_depth,\n",
    "                                         complexity=2,\n",
    "                                         C=62.52,\n",
    "                                         gamma=0.279, \n",
    "                                         n_iter=20)\n",
    "    \n",
    "    delta_time = datetime.timedelta(seconds=(time.time() - start))\n",
    "    print 'Max depth: %d   Corr coeff: %.3f +- %.3f   in: %s' % (max_depth, corr_mean, corr_std, str(delta_time))\n",
    "    x1.append(corr_mean)\n",
    "    x3.append(corr_std)\n",
    "    x2.append(max_depth)\n",
    "x1=np.array(x1)\n",
    "x2=np.array(x2)\n",
    "x3=np.array(x3)"
   ]
  },
  {
   "cell_type": "code",
   "execution_count": null,
   "metadata": {
    "collapsed": true
   },
   "outputs": [],
   "source": []
  },
  {
   "cell_type": "code",
   "execution_count": null,
   "metadata": {
    "collapsed": true
   },
   "outputs": [],
   "source": []
  }
 ],
 "metadata": {
  "kernelspec": {
   "display_name": "Python 2",
   "language": "python",
   "name": "python2"
  },
  "language_info": {
   "codemirror_mode": {
    "name": "ipython",
    "version": 2
   },
   "file_extension": ".py",
   "mimetype": "text/x-python",
   "name": "python",
   "nbconvert_exporter": "python",
   "pygments_lexer": "ipython2",
   "version": "2.7.12"
  }
 },
 "nbformat": 4,
 "nbformat_minor": 0
}
